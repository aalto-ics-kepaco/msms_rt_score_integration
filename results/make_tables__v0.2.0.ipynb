{
 "cells": [
  {
   "cell_type": "markdown",
   "metadata": {},
   "source": [
    "# Tables presented in the Publication\n",
    "\n",
    "*Probabilistic Framework for Integration of Mass Spectrum and Retention Time Information in Metabolite Identification*\n",
    "\n",
    "by: Eric Bach, Simon Rogers, John Williamson and Juho Rousu, 2020"
   ]
  },
  {
   "cell_type": "code",
   "execution_count": 2,
   "metadata": {},
   "outputs": [],
   "source": [
    "%load_ext autoreload\n",
    "%autoreload 2"
   ]
  },
  {
   "cell_type": "code",
   "execution_count": 3,
   "metadata": {},
   "outputs": [],
   "source": [
    "result_version = \"v0.2.0\""
   ]
  },
  {
   "cell_type": "markdown",
   "metadata": {},
   "source": [
    "## Main Document\n",
    "\n",
    "### Table Comparing the different MS+RT Score Intergration Methods\n",
    "\n",
    "We compare performance of the different MS+RT score integration frameworks in **Table 2**."
   ]
  },
  {
   "cell_type": "code",
   "execution_count": 3,
   "metadata": {},
   "outputs": [
    {
     "data": {
      "text/html": [
       "<div>\n",
       "<style scoped>\n",
       "    .dataframe tbody tr th:only-of-type {\n",
       "        vertical-align: middle;\n",
       "    }\n",
       "\n",
       "    .dataframe tbody tr th {\n",
       "        vertical-align: top;\n",
       "    }\n",
       "\n",
       "    .dataframe thead th {\n",
       "        text-align: right;\n",
       "    }\n",
       "</style>\n",
       "<table border=\"1\" class=\"dataframe\">\n",
       "  <thead>\n",
       "    <tr style=\"text-align: right;\">\n",
       "      <th></th>\n",
       "      <th></th>\n",
       "      <th></th>\n",
       "      <th>Top-1</th>\n",
       "      <th>Top-5</th>\n",
       "      <th>Top-10</th>\n",
       "      <th>Top-20</th>\n",
       "    </tr>\n",
       "    <tr>\n",
       "      <th>Dataset</th>\n",
       "      <th>Ionization</th>\n",
       "      <th>Method</th>\n",
       "      <th></th>\n",
       "      <th></th>\n",
       "      <th></th>\n",
       "      <th></th>\n",
       "    </tr>\n",
       "  </thead>\n",
       "  <tbody>\n",
       "    <tr>\n",
       "      <th rowspan=\"8\" valign=\"top\">EA (Massbank)</th>\n",
       "      <th rowspan=\"4\" valign=\"top\">positive</th>\n",
       "      <th>MS + RT (Chain-graph)</th>\n",
       "      <td>23.9 (***)</td>\n",
       "      <td>59.2 (n.s.)</td>\n",
       "      <td>70.1 (n.s.)</td>\n",
       "      <td>79.1 (***)</td>\n",
       "    </tr>\n",
       "    <tr>\n",
       "      <th>MS + RT (MetFrag 2.2)</th>\n",
       "      <td>24.0 (***)</td>\n",
       "      <td>59.0 (n.s.)</td>\n",
       "      <td>69.5 (n.s.)</td>\n",
       "      <td>77.1 (n.s.)</td>\n",
       "    </tr>\n",
       "    <tr>\n",
       "      <th>MS + RT (our)</th>\n",
       "      <td>27.3 (***)</td>\n",
       "      <td>61.6 (***)</td>\n",
       "      <td>72.9 (***)</td>\n",
       "      <td>80.7 (***)</td>\n",
       "    </tr>\n",
       "    <tr>\n",
       "      <th>Only MS</th>\n",
       "      <td>21.2</td>\n",
       "      <td>59.0</td>\n",
       "      <td>69.7</td>\n",
       "      <td>77.6</td>\n",
       "    </tr>\n",
       "    <tr>\n",
       "      <th rowspan=\"4\" valign=\"top\">negative</th>\n",
       "      <th>MS + RT (Chain-graph)</th>\n",
       "      <td>27.2 (***)</td>\n",
       "      <td>59.5 (***)</td>\n",
       "      <td>72.4 (***)</td>\n",
       "      <td>81.8 (***)</td>\n",
       "    </tr>\n",
       "    <tr>\n",
       "      <th>MS + RT (MetFrag 2.2)</th>\n",
       "      <td>30.2 (***)</td>\n",
       "      <td>59.2 (***)</td>\n",
       "      <td>73.6 (***)</td>\n",
       "      <td>84.4 (***)</td>\n",
       "    </tr>\n",
       "    <tr>\n",
       "      <th>MS + RT (our)</th>\n",
       "      <td>28.7 (***)</td>\n",
       "      <td>61.9 (***)</td>\n",
       "      <td>73.8 (***)</td>\n",
       "      <td>83.6 (***)</td>\n",
       "    </tr>\n",
       "    <tr>\n",
       "      <th>Only MS</th>\n",
       "      <td>22.8</td>\n",
       "      <td>57.6</td>\n",
       "      <td>69.5</td>\n",
       "      <td>78.5</td>\n",
       "    </tr>\n",
       "    <tr>\n",
       "      <th rowspan=\"8\" valign=\"top\">CASMI 2016</th>\n",
       "      <th rowspan=\"4\" valign=\"top\">positive</th>\n",
       "      <th>MS + RT (Chain-graph)</th>\n",
       "      <td>11.9 (n.s.)</td>\n",
       "      <td>36.5 (n.s.)</td>\n",
       "      <td>50.2 (***)</td>\n",
       "      <td>60.7 (***)</td>\n",
       "    </tr>\n",
       "    <tr>\n",
       "      <th>MS + RT (MetFrag 2.2)</th>\n",
       "      <td>13.7 (***)</td>\n",
       "      <td>36.2 (n.s.)</td>\n",
       "      <td>46.2 (n.s.)</td>\n",
       "      <td>57.5 (n.s.)</td>\n",
       "    </tr>\n",
       "    <tr>\n",
       "      <th>MS + RT (our)</th>\n",
       "      <td>14.0 (***)</td>\n",
       "      <td>40.7 (***)</td>\n",
       "      <td>52.2 (***)</td>\n",
       "      <td>62.8 (***)</td>\n",
       "    </tr>\n",
       "    <tr>\n",
       "      <th>Only MS</th>\n",
       "      <td>11.8</td>\n",
       "      <td>37.3</td>\n",
       "      <td>47.0</td>\n",
       "      <td>58.3</td>\n",
       "    </tr>\n",
       "    <tr>\n",
       "      <th rowspan=\"4\" valign=\"top\">negative</th>\n",
       "      <th>MS + RT (Chain-graph)</th>\n",
       "      <td>13.2 (***)</td>\n",
       "      <td>49.4 (***)</td>\n",
       "      <td>61.0 (***)</td>\n",
       "      <td>69.4 (***)</td>\n",
       "    </tr>\n",
       "    <tr>\n",
       "      <th>MS + RT (MetFrag 2.2)</th>\n",
       "      <td>14.0 (***)</td>\n",
       "      <td>42.0 (n.s.)</td>\n",
       "      <td>55.5 (n.s.)</td>\n",
       "      <td>71.2 (***)</td>\n",
       "    </tr>\n",
       "    <tr>\n",
       "      <th>MS + RT (our)</th>\n",
       "      <td>15.2 (***)</td>\n",
       "      <td>47.2 (***)</td>\n",
       "      <td>57.0 (**)</td>\n",
       "      <td>70.1 (***)</td>\n",
       "    </tr>\n",
       "    <tr>\n",
       "      <th>Only MS</th>\n",
       "      <td>11.1</td>\n",
       "      <td>44.2</td>\n",
       "      <td>55.3</td>\n",
       "      <td>68.0</td>\n",
       "    </tr>\n",
       "  </tbody>\n",
       "</table>\n",
       "</div>"
      ],
      "text/plain": [
       "                                                      Top-1        Top-5  \\\n",
       "Dataset       Ionization Method                                            \n",
       "EA (Massbank) positive   MS + RT (Chain-graph)   23.9 (***)  59.2 (n.s.)   \n",
       "                         MS + RT (MetFrag 2.2)   24.0 (***)  59.0 (n.s.)   \n",
       "                         MS + RT (our)           27.3 (***)   61.6 (***)   \n",
       "                         Only MS                       21.2         59.0   \n",
       "              negative   MS + RT (Chain-graph)   27.2 (***)   59.5 (***)   \n",
       "                         MS + RT (MetFrag 2.2)   30.2 (***)   59.2 (***)   \n",
       "                         MS + RT (our)           28.7 (***)   61.9 (***)   \n",
       "                         Only MS                       22.8         57.6   \n",
       "CASMI 2016    positive   MS + RT (Chain-graph)  11.9 (n.s.)  36.5 (n.s.)   \n",
       "                         MS + RT (MetFrag 2.2)   13.7 (***)  36.2 (n.s.)   \n",
       "                         MS + RT (our)           14.0 (***)   40.7 (***)   \n",
       "                         Only MS                       11.8         37.3   \n",
       "              negative   MS + RT (Chain-graph)   13.2 (***)   49.4 (***)   \n",
       "                         MS + RT (MetFrag 2.2)   14.0 (***)  42.0 (n.s.)   \n",
       "                         MS + RT (our)           15.2 (***)   47.2 (***)   \n",
       "                         Only MS                       11.1         44.2   \n",
       "\n",
       "                                                     Top-10       Top-20  \n",
       "Dataset       Ionization Method                                           \n",
       "EA (Massbank) positive   MS + RT (Chain-graph)  70.1 (n.s.)   79.1 (***)  \n",
       "                         MS + RT (MetFrag 2.2)  69.5 (n.s.)  77.1 (n.s.)  \n",
       "                         MS + RT (our)           72.9 (***)   80.7 (***)  \n",
       "                         Only MS                       69.7         77.6  \n",
       "              negative   MS + RT (Chain-graph)   72.4 (***)   81.8 (***)  \n",
       "                         MS + RT (MetFrag 2.2)   73.6 (***)   84.4 (***)  \n",
       "                         MS + RT (our)           73.8 (***)   83.6 (***)  \n",
       "                         Only MS                       69.5         78.5  \n",
       "CASMI 2016    positive   MS + RT (Chain-graph)   50.2 (***)   60.7 (***)  \n",
       "                         MS + RT (MetFrag 2.2)  46.2 (n.s.)  57.5 (n.s.)  \n",
       "                         MS + RT (our)           52.2 (***)   62.8 (***)  \n",
       "                         Only MS                       47.0         58.3  \n",
       "              negative   MS + RT (Chain-graph)   61.0 (***)   69.4 (***)  \n",
       "                         MS + RT (MetFrag 2.2)  55.5 (n.s.)   71.2 (***)  \n",
       "                         MS + RT (our)            57.0 (**)   70.1 (***)  \n",
       "                         Only MS                       55.3         68.0  "
      ]
     },
     "execution_count": 3,
     "metadata": {},
     "output_type": "execute_result"
    }
   ],
   "source": [
    "from msmsrt_scorer.experiments.figures_and_tables import table__alternative_methods_comparison\n",
    "\n",
    "res_global_score, res_global_sigf = table__alternative_methods_comparison(result_version)\n",
    "res_global_score\n",
    "\n",
    "# print(table__alternative_methods_comparison(\"..\", test=\"wilcoxon_oneside\", to_latex=True))"
   ]
  },
  {
   "cell_type": "markdown",
   "metadata": {},
   "source": [
    "#### Pairwise test for significant improvement\n",
    "\n",
    "**Table 3**: Is there a significant improvement of the row method over the column method?"
   ]
  },
  {
   "cell_type": "code",
   "execution_count": 6,
   "metadata": {},
   "outputs": [
    {
     "data": {
      "text/html": [
       "<div>\n",
       "<style scoped>\n",
       "    .dataframe tbody tr th:only-of-type {\n",
       "        vertical-align: middle;\n",
       "    }\n",
       "\n",
       "    .dataframe tbody tr th {\n",
       "        vertical-align: top;\n",
       "    }\n",
       "\n",
       "    .dataframe thead th {\n",
       "        text-align: right;\n",
       "    }\n",
       "</style>\n",
       "<table border=\"1\" class=\"dataframe\">\n",
       "  <thead>\n",
       "    <tr style=\"text-align: right;\">\n",
       "      <th>Method-2</th>\n",
       "      <th>Method-1</th>\n",
       "      <th>MS + RT (Chain-graph)</th>\n",
       "      <th>MS + RT (MetFrag 2.2)</th>\n",
       "      <th>MS + RT (our)</th>\n",
       "      <th>Only MS</th>\n",
       "    </tr>\n",
       "  </thead>\n",
       "  <tbody>\n",
       "    <tr>\n",
       "      <th>0</th>\n",
       "      <td>MS + RT (Chain-graph)</td>\n",
       "      <td>n.s</td>\n",
       "      <td>n.s</td>\n",
       "      <td>n.s</td>\n",
       "      <td>8.0e-26</td>\n",
       "    </tr>\n",
       "    <tr>\n",
       "      <th>1</th>\n",
       "      <td>MS + RT (MetFrag 2.2)</td>\n",
       "      <td>4.3e-08</td>\n",
       "      <td>n.s</td>\n",
       "      <td>n.s</td>\n",
       "      <td>5.8e-38</td>\n",
       "    </tr>\n",
       "    <tr>\n",
       "      <th>2</th>\n",
       "      <td>MS + RT (our)</td>\n",
       "      <td>8.7e-24</td>\n",
       "      <td>6.1e-08</td>\n",
       "      <td>n.s</td>\n",
       "      <td>5.4e-39</td>\n",
       "    </tr>\n",
       "    <tr>\n",
       "      <th>3</th>\n",
       "      <td>Only MS</td>\n",
       "      <td>n.s</td>\n",
       "      <td>n.s</td>\n",
       "      <td>n.s</td>\n",
       "      <td>n.s</td>\n",
       "    </tr>\n",
       "  </tbody>\n",
       "</table>\n",
       "</div>"
      ],
      "text/plain": [
       "Method-2               Method-1 MS + RT (Chain-graph) MS + RT (MetFrag 2.2)  \\\n",
       "0         MS + RT (Chain-graph)                   n.s                   n.s   \n",
       "1         MS + RT (MetFrag 2.2)               4.3e-08                   n.s   \n",
       "2                 MS + RT (our)               8.7e-24               6.1e-08   \n",
       "3                       Only MS                   n.s                   n.s   \n",
       "\n",
       "Method-2 MS + RT (our)  Only MS  \n",
       "0                  n.s  8.0e-26  \n",
       "1                  n.s  5.8e-38  \n",
       "2                  n.s  5.4e-39  \n",
       "3                  n.s      n.s  "
      ]
     },
     "execution_count": 6,
     "metadata": {},
     "output_type": "execute_result"
    }
   ],
   "source": [
    "res_global_sigf[1]\n",
    "\n",
    "# print(res_global_sigf[1])"
   ]
  },
  {
   "cell_type": "code",
   "execution_count": 7,
   "metadata": {},
   "outputs": [
    {
     "data": {
      "text/html": [
       "<div>\n",
       "<style scoped>\n",
       "    .dataframe tbody tr th:only-of-type {\n",
       "        vertical-align: middle;\n",
       "    }\n",
       "\n",
       "    .dataframe tbody tr th {\n",
       "        vertical-align: top;\n",
       "    }\n",
       "\n",
       "    .dataframe thead th {\n",
       "        text-align: right;\n",
       "    }\n",
       "</style>\n",
       "<table border=\"1\" class=\"dataframe\">\n",
       "  <thead>\n",
       "    <tr style=\"text-align: right;\">\n",
       "      <th>Method-2</th>\n",
       "      <th>Method-1</th>\n",
       "      <th>MS + RT (Chain-graph)</th>\n",
       "      <th>MS + RT (MetFrag 2.2)</th>\n",
       "      <th>MS + RT (our)</th>\n",
       "      <th>Only MS</th>\n",
       "    </tr>\n",
       "  </thead>\n",
       "  <tbody>\n",
       "    <tr>\n",
       "      <th>0</th>\n",
       "      <td>MS + RT (Chain-graph)</td>\n",
       "      <td>n.s</td>\n",
       "      <td>8.1e-04</td>\n",
       "      <td>n.s</td>\n",
       "      <td>4.3e-23</td>\n",
       "    </tr>\n",
       "    <tr>\n",
       "      <th>1</th>\n",
       "      <td>MS + RT (MetFrag 2.2)</td>\n",
       "      <td>n.s</td>\n",
       "      <td>n.s</td>\n",
       "      <td>n.s</td>\n",
       "      <td>4.3e-10</td>\n",
       "    </tr>\n",
       "    <tr>\n",
       "      <th>2</th>\n",
       "      <td>MS + RT (our)</td>\n",
       "      <td>2.1e-13</td>\n",
       "      <td>1.5e-14</td>\n",
       "      <td>n.s</td>\n",
       "      <td>1.5e-34</td>\n",
       "    </tr>\n",
       "    <tr>\n",
       "      <th>3</th>\n",
       "      <td>Only MS</td>\n",
       "      <td>n.s</td>\n",
       "      <td>n.s</td>\n",
       "      <td>n.s</td>\n",
       "      <td>n.s</td>\n",
       "    </tr>\n",
       "  </tbody>\n",
       "</table>\n",
       "</div>"
      ],
      "text/plain": [
       "Method-2               Method-1 MS + RT (Chain-graph) MS + RT (MetFrag 2.2)  \\\n",
       "0         MS + RT (Chain-graph)                   n.s               8.1e-04   \n",
       "1         MS + RT (MetFrag 2.2)                   n.s                   n.s   \n",
       "2                 MS + RT (our)               2.1e-13               1.5e-14   \n",
       "3                       Only MS                   n.s                   n.s   \n",
       "\n",
       "Method-2 MS + RT (our)  Only MS  \n",
       "0                  n.s  4.3e-23  \n",
       "1                  n.s  4.3e-10  \n",
       "2                  n.s  1.5e-34  \n",
       "3                  n.s      n.s  "
      ]
     },
     "execution_count": 7,
     "metadata": {},
     "output_type": "execute_result"
    }
   ],
   "source": [
    "res_global_sigf[20]\n",
    "\n",
    "# print(res_global_sigf[20])"
   ]
  },
  {
   "cell_type": "code",
   "execution_count": 8,
   "metadata": {},
   "outputs": [
    {
     "name": "stdout",
     "output_type": "stream",
     "text": [
      "\\begin{tabular}{lllcccc}\n",
      "\\toprule\n",
      "              Method-1 & MS + RT (Chain-graph) & MS + RT (MetFrag 2.2) & MS + RT (our) &  Only MS \\\\\n",
      "\\midrule\n",
      " MS + RT (Chain-graph) &                   n.s &               8.1e-04 &           n.s &  4.3e-23 \\\\\n",
      " MS + RT (MetFrag 2.2) &                   n.s &                   n.s &           n.s &  4.3e-10 \\\\\n",
      "         MS + RT (our) &               2.1e-13 &               1.5e-14 &           n.s &  1.5e-34 \\\\\n",
      "               Only MS &                   n.s &                   n.s &           n.s &      n.s \\\\\n",
      "\\bottomrule\n",
      "\\end{tabular}\n",
      "\n"
     ]
    }
   ],
   "source": [
    "print(table__alternative_methods_comparison(result_version, to_latex=True)[1][20])"
   ]
  },
  {
   "cell_type": "markdown",
   "metadata": {},
   "source": [
    "### Comparison of MetFrag's and IOKR's used as MS2-Scorer\n",
    "\n",
    "In **Table 4** we compare the performance of the MS+RT score integration, when different MS2-Scorers, here MetFrag and IOKR, are used to process the MS2-spectra. "
   ]
  },
  {
   "cell_type": "code",
   "execution_count": 9,
   "metadata": {},
   "outputs": [
    {
     "data": {
      "text/html": [
       "<div>\n",
       "<style scoped>\n",
       "    .dataframe tbody tr th:only-of-type {\n",
       "        vertical-align: middle;\n",
       "    }\n",
       "\n",
       "    .dataframe tbody tr th {\n",
       "        vertical-align: top;\n",
       "    }\n",
       "\n",
       "    .dataframe thead th {\n",
       "        text-align: right;\n",
       "    }\n",
       "</style>\n",
       "<table border=\"1\" class=\"dataframe\">\n",
       "  <thead>\n",
       "    <tr style=\"text-align: right;\">\n",
       "      <th></th>\n",
       "      <th>\\msms{}-Scorers</th>\n",
       "      <th>Method</th>\n",
       "      <th>Top-1</th>\n",
       "      <th>Top-5</th>\n",
       "      <th>Top-10</th>\n",
       "      <th>Top-20</th>\n",
       "    </tr>\n",
       "  </thead>\n",
       "  <tbody>\n",
       "    <tr>\n",
       "      <th>0</th>\n",
       "      <td>IOKR</td>\n",
       "      <td>MS + RT</td>\n",
       "      <td>26.7</td>\n",
       "      <td>52.1</td>\n",
       "      <td>62.5</td>\n",
       "      <td>70.3</td>\n",
       "    </tr>\n",
       "    <tr>\n",
       "      <th>1</th>\n",
       "      <td>IOKR</td>\n",
       "      <td>Only MS</td>\n",
       "      <td>25.1</td>\n",
       "      <td>49.5</td>\n",
       "      <td>60.3</td>\n",
       "      <td>67.6</td>\n",
       "    </tr>\n",
       "    <tr>\n",
       "      <th>2</th>\n",
       "      <td>MetFrag</td>\n",
       "      <td>MS + RT</td>\n",
       "      <td>21.3</td>\n",
       "      <td>52.9</td>\n",
       "      <td>64.0</td>\n",
       "      <td>74.3</td>\n",
       "    </tr>\n",
       "    <tr>\n",
       "      <th>3</th>\n",
       "      <td>MetFrag</td>\n",
       "      <td>Only MS</td>\n",
       "      <td>16.7</td>\n",
       "      <td>49.5</td>\n",
       "      <td>60.4</td>\n",
       "      <td>70.6</td>\n",
       "    </tr>\n",
       "  </tbody>\n",
       "</table>\n",
       "</div>"
      ],
      "text/plain": [
       "  \\msms{}-Scorers   Method  Top-1  Top-5  Top-10  Top-20\n",
       "0            IOKR  MS + RT   26.7   52.1    62.5    70.3\n",
       "1            IOKR  Only MS   25.1   49.5    60.3    67.6\n",
       "2         MetFrag  MS + RT   21.3   52.9    64.0    74.3\n",
       "3         MetFrag  Only MS   16.7   49.5    60.4    70.6"
      ]
     },
     "execution_count": 9,
     "metadata": {},
     "output_type": "execute_result"
    }
   ],
   "source": [
    "from msmsrt_scorer.experiments.figures_and_tables import table__MetFrag_vs_IOKR_comparison\n",
    "\n",
    "table__MetFrag_vs_IOKR_comparison(result_version)"
   ]
  },
  {
   "cell_type": "code",
   "execution_count": 10,
   "metadata": {},
   "outputs": [
    {
     "name": "stdout",
     "output_type": "stream",
     "text": [
      "\\begin{tabular}{@{}llcccc@{}}\n",
      "\\toprule\n",
      "\\msms{}-Scorers &   Method &  Top-1 &  Top-5 &  Top-10 &  Top-20 \\\\\n",
      "\\midrule\n",
      "           IOKR &  MS + RT &   26.7 &   52.1 &    62.5 &    70.3 \\\\\n",
      "           IOKR &  Only MS &   25.1 &   49.5 &    60.3 &    67.6 \\\\\n",
      "        MetFrag &  MS + RT &   21.3 &   52.9 &    64.0 &    74.3 \\\\\n",
      "        MetFrag &  Only MS &   16.7 &   49.5 &    60.4 &    70.6 \\\\\n",
      "\\bottomrule\n",
      "\\end{tabular}\n",
      "\n"
     ]
    }
   ],
   "source": [
    "print(table__MetFrag_vs_IOKR_comparison(result_version, to_latex=True))"
   ]
  },
  {
   "cell_type": "markdown",
   "metadata": {},
   "source": [
    "### Comparison of different Candidate Set Definitions\n",
    "\n",
    "#### MetFrag\n",
    "\n",
    "Table 5."
   ]
  },
  {
   "cell_type": "code",
   "execution_count": 11,
   "metadata": {},
   "outputs": [
    {
     "data": {
      "text/html": [
       "<div>\n",
       "<style scoped>\n",
       "    .dataframe tbody tr th:only-of-type {\n",
       "        vertical-align: middle;\n",
       "    }\n",
       "\n",
       "    .dataframe tbody tr th {\n",
       "        vertical-align: top;\n",
       "    }\n",
       "\n",
       "    .dataframe thead th {\n",
       "        text-align: right;\n",
       "    }\n",
       "</style>\n",
       "<table border=\"1\" class=\"dataframe\">\n",
       "  <thead>\n",
       "    <tr style=\"text-align: right;\">\n",
       "      <th></th>\n",
       "      <th></th>\n",
       "      <th>Top-1</th>\n",
       "      <th>Top-5</th>\n",
       "      <th>Top-10</th>\n",
       "      <th>Top-20</th>\n",
       "    </tr>\n",
       "    <tr>\n",
       "      <th>Candidate Set</th>\n",
       "      <th>Method</th>\n",
       "      <th></th>\n",
       "      <th></th>\n",
       "      <th></th>\n",
       "      <th></th>\n",
       "    </tr>\n",
       "  </thead>\n",
       "  <tbody>\n",
       "    <tr>\n",
       "      <th rowspan=\"2\" valign=\"top\">All</th>\n",
       "      <th>MS + RT (our)</th>\n",
       "      <td>14.6 (***)</td>\n",
       "      <td>44.0 (***)</td>\n",
       "      <td>54.6 (***)</td>\n",
       "      <td>66.5 (***)</td>\n",
       "    </tr>\n",
       "    <tr>\n",
       "      <th>Only MS</th>\n",
       "      <td>11.4</td>\n",
       "      <td>40.7</td>\n",
       "      <td>51.2</td>\n",
       "      <td>63.2</td>\n",
       "    </tr>\n",
       "    <tr>\n",
       "      <th rowspan=\"2\" valign=\"top\">Correct MF</th>\n",
       "      <th>MS + RT (our)</th>\n",
       "      <td>17.7 (***)</td>\n",
       "      <td>48.4 (***)</td>\n",
       "      <td>59.8 (***)</td>\n",
       "      <td>71.0 (***)</td>\n",
       "    </tr>\n",
       "    <tr>\n",
       "      <th>Only MS</th>\n",
       "      <td>13.1</td>\n",
       "      <td>46.0</td>\n",
       "      <td>56.9</td>\n",
       "      <td>68.7</td>\n",
       "    </tr>\n",
       "  </tbody>\n",
       "</table>\n",
       "</div>"
      ],
      "text/plain": [
       "                                  Top-1       Top-5      Top-10      Top-20\n",
       "Candidate Set Method                                                       \n",
       "All           MS + RT (our)  14.6 (***)  44.0 (***)  54.6 (***)  66.5 (***)\n",
       "              Only MS              11.4        40.7        51.2        63.2\n",
       "Correct MF    MS + RT (our)  17.7 (***)  48.4 (***)  59.8 (***)  71.0 (***)\n",
       "              Only MS              13.1        46.0        56.9        68.7"
      ]
     },
     "execution_count": 11,
     "metadata": {},
     "output_type": "execute_result"
    }
   ],
   "source": [
    "from msmsrt_scorer.experiments.figures_and_tables import table__candidate_set_comparison\n",
    "\n",
    "table__candidate_set_comparison(result_version, ms2scorer=\"MetFrag\")"
   ]
  },
  {
   "cell_type": "code",
   "execution_count": 12,
   "metadata": {},
   "outputs": [
    {
     "name": "stdout",
     "output_type": "stream",
     "text": [
      "\\begin{tabular}{lcccc}\n",
      "\\toprule\n",
      "Candidate Set &         Method &       Top-1 &       Top-5 &      Top-10 &      Top-20 \\\\\n",
      "\\midrule\n",
      "          All &  MS + RT (our) &  14.6 (***) &  44.0 (***) &  54.6 (***) &  66.5 (***) \\\\\n",
      "          All &        Only MS &        11.4 &        40.7 &        51.2 &        63.2 \\\\\n",
      "   Correct MF &  MS + RT (our) &  17.7 (***) &  48.4 (***) &  59.8 (***) &  71.0 (***) \\\\\n",
      "   Correct MF &        Only MS &        13.1 &        46.0 &        56.9 &        68.7 \\\\\n",
      "\\bottomrule\n",
      "\\end{tabular}\n",
      "\n"
     ]
    }
   ],
   "source": [
    "print(table__candidate_set_comparison(result_version, ms2scorer=\"MetFrag\", to_latex=True))"
   ]
  },
  {
   "cell_type": "markdown",
   "metadata": {},
   "source": [
    "#### IOKR\n",
    "\n",
    "Table 5."
   ]
  },
  {
   "cell_type": "code",
   "execution_count": 13,
   "metadata": {},
   "outputs": [
    {
     "data": {
      "text/html": [
       "<div>\n",
       "<style scoped>\n",
       "    .dataframe tbody tr th:only-of-type {\n",
       "        vertical-align: middle;\n",
       "    }\n",
       "\n",
       "    .dataframe tbody tr th {\n",
       "        vertical-align: top;\n",
       "    }\n",
       "\n",
       "    .dataframe thead th {\n",
       "        text-align: right;\n",
       "    }\n",
       "</style>\n",
       "<table border=\"1\" class=\"dataframe\">\n",
       "  <thead>\n",
       "    <tr style=\"text-align: right;\">\n",
       "      <th></th>\n",
       "      <th></th>\n",
       "      <th>Top-1</th>\n",
       "      <th>Top-5</th>\n",
       "      <th>Top-10</th>\n",
       "      <th>Top-20</th>\n",
       "    </tr>\n",
       "    <tr>\n",
       "      <th>Candidate Set</th>\n",
       "      <th>Method</th>\n",
       "      <th></th>\n",
       "      <th></th>\n",
       "      <th></th>\n",
       "      <th></th>\n",
       "    </tr>\n",
       "  </thead>\n",
       "  <tbody>\n",
       "    <tr>\n",
       "      <th rowspan=\"2\" valign=\"top\">All</th>\n",
       "      <th>MS + RT (our)</th>\n",
       "      <td>26.0 (***)</td>\n",
       "      <td>48.0 (***)</td>\n",
       "      <td>60.0 (***)</td>\n",
       "      <td>69.1 (***)</td>\n",
       "    </tr>\n",
       "    <tr>\n",
       "      <th>Only MS</th>\n",
       "      <td>24.4</td>\n",
       "      <td>46.0</td>\n",
       "      <td>58.4</td>\n",
       "      <td>65.5</td>\n",
       "    </tr>\n",
       "    <tr>\n",
       "      <th rowspan=\"2\" valign=\"top\">Correct MF</th>\n",
       "      <th>MS + RT (our)</th>\n",
       "      <td>30.6 (n.s.)</td>\n",
       "      <td>52.3 (n.s.)</td>\n",
       "      <td>66.2 (***)</td>\n",
       "      <td>75.1 (*)</td>\n",
       "    </tr>\n",
       "    <tr>\n",
       "      <th>Only MS</th>\n",
       "      <td>30.6</td>\n",
       "      <td>53.9</td>\n",
       "      <td>65.3</td>\n",
       "      <td>74.8</td>\n",
       "    </tr>\n",
       "  </tbody>\n",
       "</table>\n",
       "</div>"
      ],
      "text/plain": [
       "                                   Top-1        Top-5      Top-10      Top-20\n",
       "Candidate Set Method                                                         \n",
       "All           MS + RT (our)   26.0 (***)   48.0 (***)  60.0 (***)  69.1 (***)\n",
       "              Only MS               24.4         46.0        58.4        65.5\n",
       "Correct MF    MS + RT (our)  30.6 (n.s.)  52.3 (n.s.)  66.2 (***)    75.1 (*)\n",
       "              Only MS               30.6         53.9        65.3        74.8"
      ]
     },
     "execution_count": 13,
     "metadata": {},
     "output_type": "execute_result"
    }
   ],
   "source": [
    "table__candidate_set_comparison(result_version, ms2scorer=\"IOKR\")"
   ]
  },
  {
   "cell_type": "code",
   "execution_count": 14,
   "metadata": {},
   "outputs": [
    {
     "name": "stdout",
     "output_type": "stream",
     "text": [
      "\\begin{tabular}{lcccc}\n",
      "\\toprule\n",
      "Candidate Set &         Method &        Top-1 &        Top-5 &      Top-10 &      Top-20 \\\\\n",
      "\\midrule\n",
      "          All &  MS + RT (our) &   26.0 (***) &   48.0 (***) &  60.0 (***) &  69.1 (***) \\\\\n",
      "          All &        Only MS &         24.4 &         46.0 &        58.4 &        65.5 \\\\\n",
      "   Correct MF &  MS + RT (our) &  30.6 (n.s.) &  52.3 (n.s.) &  66.2 (***) &    75.1 (*) \\\\\n",
      "   Correct MF &        Only MS &         30.6 &         53.9 &        65.3 &        74.8 \\\\\n",
      "\\bottomrule\n",
      "\\end{tabular}\n",
      "\n"
     ]
    }
   ],
   "source": [
    "print(table__candidate_set_comparison(result_version, ms2scorer=\"IOKR\", to_latex=True))"
   ]
  },
  {
   "cell_type": "markdown",
   "metadata": {},
   "source": [
    "## Supplementary Material\n",
    "\n",
    "### Aggregated Metabolite Identification Performance of the different Edge-potential Functions\n",
    "\n",
    "Table S1."
   ]
  },
  {
   "cell_type": "code",
   "execution_count": 15,
   "metadata": {},
   "outputs": [
    {
     "name": "stdout",
     "output_type": "stream",
     "text": [
      "Does 'sigmoid' significantly improves over 'stepfun'?\n",
      "                   Method  Top-1 Top-5  Top-10  Top-20\n",
      "0  MS + RT (our, sigmoid)  (***)   (*)  (n.s.)  (n.s.)\n",
      "Does 'stepfun' significantly improves over 'sigmoid'?\n",
      "                   Method   Top-1   Top-5  Top-10  Top-20\n",
      "0  MS + RT (our, stepfun)  (n.s.)  (n.s.)  (n.s.)  (n.s.)\n"
     ]
    }
   ],
   "source": [
    "from msmsrt_scorer.experiments.figures_and_tables import table__edgepotential_function_comparison\n",
    "\n",
    "res_scores, res_p = table__edgepotential_function_comparison(result_version)\n",
    "\n",
    "# print(table__edgepotential_function_comparison(result_version, to_latex=True))"
   ]
  },
  {
   "cell_type": "code",
   "execution_count": 16,
   "metadata": {},
   "outputs": [
    {
     "data": {
      "text/html": [
       "<div>\n",
       "<style scoped>\n",
       "    .dataframe tbody tr th:only-of-type {\n",
       "        vertical-align: middle;\n",
       "    }\n",
       "\n",
       "    .dataframe tbody tr th {\n",
       "        vertical-align: top;\n",
       "    }\n",
       "\n",
       "    .dataframe thead th {\n",
       "        text-align: right;\n",
       "    }\n",
       "</style>\n",
       "<table border=\"1\" class=\"dataframe\">\n",
       "  <thead>\n",
       "    <tr style=\"text-align: right;\">\n",
       "      <th></th>\n",
       "      <th>Method</th>\n",
       "      <th>Top-1</th>\n",
       "      <th>Top-5</th>\n",
       "      <th>Top-10</th>\n",
       "      <th>Top-20</th>\n",
       "    </tr>\n",
       "  </thead>\n",
       "  <tbody>\n",
       "    <tr>\n",
       "      <th>0</th>\n",
       "      <td>MS + RT (our, sigmoid)</td>\n",
       "      <td>21.3</td>\n",
       "      <td>52.9</td>\n",
       "      <td>64.0</td>\n",
       "      <td>74.3</td>\n",
       "    </tr>\n",
       "    <tr>\n",
       "      <th>1</th>\n",
       "      <td>MS + RT (our, stepfun)</td>\n",
       "      <td>20.8</td>\n",
       "      <td>52.6</td>\n",
       "      <td>64.3</td>\n",
       "      <td>74.4</td>\n",
       "    </tr>\n",
       "    <tr>\n",
       "      <th>2</th>\n",
       "      <td>Only MS</td>\n",
       "      <td>16.7</td>\n",
       "      <td>49.5</td>\n",
       "      <td>60.4</td>\n",
       "      <td>70.6</td>\n",
       "    </tr>\n",
       "  </tbody>\n",
       "</table>\n",
       "</div>"
      ],
      "text/plain": [
       "                   Method  Top-1  Top-5  Top-10  Top-20\n",
       "0  MS + RT (our, sigmoid)   21.3   52.9    64.0    74.3\n",
       "1  MS + RT (our, stepfun)   20.8   52.6    64.3    74.4\n",
       "2                 Only MS   16.7   49.5    60.4    70.6"
      ]
     },
     "execution_count": 16,
     "metadata": {},
     "output_type": "execute_result"
    }
   ],
   "source": [
    "res_scores"
   ]
  },
  {
   "cell_type": "code",
   "execution_count": 17,
   "metadata": {},
   "outputs": [
    {
     "data": {
      "text/html": [
       "<div>\n",
       "<style scoped>\n",
       "    .dataframe tbody tr th:only-of-type {\n",
       "        vertical-align: middle;\n",
       "    }\n",
       "\n",
       "    .dataframe tbody tr th {\n",
       "        vertical-align: top;\n",
       "    }\n",
       "\n",
       "    .dataframe thead th {\n",
       "        text-align: right;\n",
       "    }\n",
       "</style>\n",
       "<table border=\"1\" class=\"dataframe\">\n",
       "  <thead>\n",
       "    <tr style=\"text-align: right;\">\n",
       "      <th></th>\n",
       "      <th>Method</th>\n",
       "      <th>Top-1</th>\n",
       "      <th>Top-5</th>\n",
       "      <th>Top-10</th>\n",
       "      <th>Top-20</th>\n",
       "    </tr>\n",
       "  </thead>\n",
       "  <tbody>\n",
       "    <tr>\n",
       "      <th>0</th>\n",
       "      <td>MS + RT (our, sigmoid)</td>\n",
       "      <td>(***)</td>\n",
       "      <td>(***)</td>\n",
       "      <td>(***)</td>\n",
       "      <td>(***)</td>\n",
       "    </tr>\n",
       "    <tr>\n",
       "      <th>1</th>\n",
       "      <td>MS + RT (our, stepfun)</td>\n",
       "      <td>(***)</td>\n",
       "      <td>(***)</td>\n",
       "      <td>(***)</td>\n",
       "      <td>(***)</td>\n",
       "    </tr>\n",
       "  </tbody>\n",
       "</table>\n",
       "</div>"
      ],
      "text/plain": [
       "                   Method  Top-1  Top-5 Top-10 Top-20\n",
       "0  MS + RT (our, sigmoid)  (***)  (***)  (***)  (***)\n",
       "1  MS + RT (our, stepfun)  (***)  (***)  (***)  (***)"
      ]
     },
     "execution_count": 17,
     "metadata": {},
     "output_type": "execute_result"
    }
   ],
   "source": [
    "res_p"
   ]
  },
  {
   "cell_type": "markdown",
   "metadata": {},
   "source": [
    "Table showing the significance of the improvement over the baseline (Only MS) determined using the one-sided Wilcoxon signed-rank test. "
   ]
  },
  {
   "cell_type": "markdown",
   "metadata": {},
   "source": [
    "### Analysis of the Margin Scores\n",
    "\n",
    "Table S5 and Figure S2"
   ]
  },
  {
   "cell_type": "code",
   "execution_count": 5,
   "metadata": {},
   "outputs": [
    {
     "name": "stdout",
     "output_type": "stream",
     "text": [
      "CASMI positive\n",
      "CASMI negative\n",
      "EA positive\n",
      "EA negative\n"
     ]
    }
   ],
   "source": [
    "from msmsrt_scorer.experiments.figures_and_tables import get_results_for__margin_analysis\n",
    "\n",
    "# Path to the score database (see: https://github.com/aalto-ics-kepaco/msms_rt_score_integration/tree/master/data)\n",
    "db_fn = \"/home/bach/Documents/doctoral/projects/local_casmi_db/db/use_inchis/DB_LATEST.db\"\n",
    "\n",
    "res_margins = get_results_for__margin_analysis(base_dir=result_version, db_fn=db_fn)"
   ]
  },
  {
   "cell_type": "code",
   "execution_count": 313,
   "metadata": {},
   "outputs": [
    {
     "data": {
      "image/png": "[encoded data removed]",
      "text/plain": [
       "<Figure size 540x360 with 4 Axes>"
      ]
     },
     "metadata": {
      "needs_background": "light"
     },
     "output_type": "display_data"
    }
   ],
   "source": [
    "import os\n",
    "import seaborn as sns\n",
    "\n",
    "g = sns.FacetGrid(data=res_margins, hue=\"rank_one_is_correct\", col=\"ionization\", row=\"dataset\",\n",
    "                  height=2.5, aspect=1.5, sharex=False, legend_out=False)\n",
    "g = g.map_dataframe(sns.ecdfplot, x=\"margin_value\", stat=\"proportion\")\n",
    "g = g.add_legend(title=\"Highest ranked structure is correct\")\n",
    "g = g.set_xlabels(\"Averaged max-margin score of top-1 structure\")\n",
    "g = g.set_ylabels(\"Proportion of the Samples\")\n",
    "g = g.set_titles(\"{row_name} ({col_name})\")\n",
    "for ax in g.axes.flatten():\n",
    "    ax.grid()\n",
    "    \n",
    "g.fig.savefig(os.path.join(result_version, \"images_for_paper\", \"margin_score_distribution.pdf\"))"
   ]
  },
  {
   "cell_type": "markdown",
   "metadata": {},
   "source": [
    "Here we plot the empirical cumulative distribution function (ECDF) of the max-margin scores for the highest ranked candidates (top-1) of each MS-feature used in our evaluation. The plots are based on the (MS2, RT)-tuple subsample sets and their candidates (see Section 3.1). Each candidate list was ranked during the evaluation of our score-integration framework (see Section 4.2). We plot two ECDFs for each (dataset, ionization) combination, differentiating between correct and incorrect top-1 molecular structures. It can be seen, that the max-margin scores tend to be higher for true top-1 one structures than for the false ones. As we are using max-margins this indicates that for correct top-1 structures the random-spanning tree ensemble tend to aggree more, i.e. resulting in the same highest ranked struture for most trees. On the opposit, if the highest ranked structure is incorrect the tree ensemble seems to output a more diverse set of top-1 structures resulting in lower averaged max-margins scores (Eq.(4)) from the tree ensemble."
   ]
  },
  {
   "cell_type": "code",
   "execution_count": 214,
   "metadata": {},
   "outputs": [
    {
     "data": {
      "text/html": [
       "<div>\n",
       "<style scoped>\n",
       "    .dataframe tbody tr th:only-of-type {\n",
       "        vertical-align: middle;\n",
       "    }\n",
       "\n",
       "    .dataframe tbody tr th {\n",
       "        vertical-align: top;\n",
       "    }\n",
       "\n",
       "    .dataframe thead tr th {\n",
       "        text-align: left;\n",
       "    }\n",
       "</style>\n",
       "<table border=\"1\" class=\"dataframe\">\n",
       "  <thead>\n",
       "    <tr>\n",
       "      <th></th>\n",
       "      <th></th>\n",
       "      <th colspan=\"8\" halign=\"left\">$t=\\bar{p}_{\\text{max}}(z_i=r\\,|\\,\\mathbf{T})$</th>\n",
       "    </tr>\n",
       "    <tr>\n",
       "      <th></th>\n",
       "      <th>Rank-1 Correct</th>\n",
       "      <th>min(t)</th>\n",
       "      <th>median(t)</th>\n",
       "      <th>mean</th>\n",
       "      <th>t &lt; 0.90</th>\n",
       "      <th>t &lt; 0.95</th>\n",
       "      <th>t &lt; 0.99</th>\n",
       "      <th>t &lt; 1.00</th>\n",
       "      <th>t &lt;= 1.00</th>\n",
       "    </tr>\n",
       "  </thead>\n",
       "  <tbody>\n",
       "    <tr>\n",
       "      <th>0</th>\n",
       "      <td>False</td>\n",
       "      <td>0.80</td>\n",
       "      <td>0.98</td>\n",
       "      <td>0.98</td>\n",
       "      <td>1.0%</td>\n",
       "      <td>14.0%</td>\n",
       "      <td>63.1%</td>\n",
       "      <td>94.0%</td>\n",
       "      <td>100.0%</td>\n",
       "    </tr>\n",
       "    <tr>\n",
       "      <th>1</th>\n",
       "      <td>True</td>\n",
       "      <td>0.89</td>\n",
       "      <td>1.00</td>\n",
       "      <td>0.99</td>\n",
       "      <td>0.2%</td>\n",
       "      <td>6.4%</td>\n",
       "      <td>34.8%</td>\n",
       "      <td>69.9%</td>\n",
       "      <td>100.0%</td>\n",
       "    </tr>\n",
       "  </tbody>\n",
       "</table>\n",
       "</div>"
      ],
      "text/plain": [
       "                 $t=\\bar{p}_{\\text{max}}(z_i=r\\,|\\,\\mathbf{T})$            \\\n",
       "  Rank-1 Correct                                         min(t) median(t)   \n",
       "0          False                                           0.80      0.98   \n",
       "1           True                                           0.89      1.00   \n",
       "\n",
       "                                                       \n",
       "   mean t < 0.90 t < 0.95 t < 0.99 t < 1.00 t <= 1.00  \n",
       "0  0.98     1.0%    14.0%    63.1%    94.0%    100.0%  \n",
       "1  0.99     0.2%     6.4%    34.8%    69.9%    100.0%  "
      ]
     },
     "execution_count": 214,
     "metadata": {},
     "output_type": "execute_result"
    }
   ],
   "source": [
    "import numpy as np\n",
    "\n",
    "res_margins.groupby([\"rank_one_is_correct\"]).aggregate(\n",
    "    [np.min, np.median, np.mean,\n",
    "     lambda _x: \"%.1f%%\" % (np.sum(_x < 0.90) / len(_x) * 100),\n",
    "     lambda _x: \"%.1f%%\" % (np.sum(_x < 0.95) / len(_x) * 100),\n",
    "     lambda _x: \"%.1f%%\" % (np.sum(_x < 0.99) / len(_x) * 100),\n",
    "     lambda _x: \"%.1f%%\" % (np.sum(_x < 1.00) / len(_x) * 100),\n",
    "     lambda _x: \"%.1f%%\" % (np.sum(_x < 1.000001) / len(_x) * 100)]) \\\n",
    "      .reset_index(col_level=1) \\\n",
    "      .rename(columns={\"rank_one_is_correct\": \"Rank-1 Correct\",\n",
    "                       \"amin\": \"min(t)\", \n",
    "                       \"median\": \"median(t)\",\n",
    "                       \"margin_value\": \"$t=\\\\bar{p}_{\\text{max}}(z_i=r\\,|\\,\\mathbf{T})$\", \n",
    "                       \"<lambda_0>\": \"t < 0.90\",\n",
    "                       \"<lambda_1>\": \"t < 0.95\",\n",
    "                       \"<lambda_2>\": \"t < 0.99\",\n",
    "                       \"<lambda_3>\": \"t < 1.00\",\n",
    "                       \"<lambda_4>\": \"t <= 1.00\"}) \\\n",
    "      .round(2)"
   ]
  },
  {
   "cell_type": "markdown",
   "metadata": {},
   "source": [
    "#### Check the significance of the median difference using Kruskal-Wallis H-test. "
   ]
  },
  {
   "cell_type": "code",
   "execution_count": 212,
   "metadata": {},
   "outputs": [
    {
     "name": "stdout",
     "output_type": "stream",
     "text": [
      "Size of the samples (TP, FP): 4469 15031\n",
      "Significance of the difference of the medians between the two distributions: p = 0.0\n"
     ]
    }
   ],
   "source": [
    "from scipy.stats import kruskal\n",
    "\n",
    "_g1 = res_margins.loc[( res_margins.rank_one_is_correct), \"margin_value\"]\n",
    "_g2 = res_margins.loc[(~res_margins.rank_one_is_correct), \"margin_value\"]\n",
    "\n",
    "#_g1 = res_margins.loc[(res_margins.rank_one_is_correct) &\n",
    "#                      (res_margins.ionization == \"negative\") &\n",
    "#                      (res_margins.dataset == \"EA\"),\n",
    "#                      \"margin_value\"]\n",
    "#_g2 = res_margins.loc[(~ res_margins.rank_one_is_correct) &\n",
    "#                      (res_margins.ionization == \"negative\") &\n",
    "#                      (res_margins.dataset == \"EA\"), \n",
    "#                      \"margin_value\"]\n",
    "\n",
    "print(\"Size of the samples (TP, FP):\", len(_g1), len(_g2))\n",
    "print(\"Significance of the difference of the medians between the two distributions: p =\",\n",
    "      kruskal(_g1, _g2)[1])"
   ]
  },
  {
   "cell_type": "code",
   "execution_count": 213,
   "metadata": {},
   "outputs": [],
   "source": [
    "#res_margins.groupby([\"rank_one_is_correct\"]).aggregate(\n",
    "#    [np.min, np.median,\n",
    "#     lambda _x: \"%.1f%%\" % (np.sum(_x < 0.90) / np.sum(res_margins[\"margin_value\"] < 0.90) * 100),\n",
    "#     lambda _x: \"%.1f%%\" % (np.sum(_x < 0.95) / np.sum(res_margins[\"margin_value\"] < 0.95) * 100),\n",
    "#     lambda _x: \"%.1f%%\" % (np.sum(_x < 0.99) / np.sum(res_margins[\"margin_value\"] < 0.99) * 100),\n",
    "#     lambda _x: \"%.1f%%\" % (np.sum(_x < 1.00) / np.sum(res_margins[\"margin_value\"] < 1.00) * 100),\n",
    "#     lambda _x: \"%.1f%%\" % (np.sum(_x < 1.000001) / np.sum(res_margins[\"margin_value\"] < 1.000001) * 100)]) \\\n",
    "#      .reset_index(col_level=1) \\\n",
    "#      .rename(columns={\"rank_one_is_correct\": \"Rank-1 Correct\",\n",
    "#                       \"amin\": \"min(t)\", \n",
    "#                       \"median\": \"median(t)\",\n",
    "#                       \"margin_value\": \"$t=\\\\bar{p}_{\\text{max}}(z_i=r\\,|\\,\\mathbf{T})$\", \n",
    "#                       \"<lambda_0>\": \"t < 0.90\",\n",
    "#                       \"<lambda_1>\": \"t < 0.95\",\n",
    "#                       \"<lambda_2>\": \"t < 0.99\",\n",
    "#                       \"<lambda_3>\": \"t < 1.00\",\n",
    "#                       \"<lambda_4>\": \"t <= 1.00\"}) \\\n",
    "#      .round(2)"
   ]
  },
  {
   "cell_type": "code",
   "execution_count": 323,
   "metadata": {},
   "outputs": [
    {
     "data": {
      "image/png": "[encoded data removed]",
      "text/plain": [
       "<Figure size 648x216 with 2 Axes>"
      ]
     },
     "metadata": {
      "needs_background": "light"
     },
     "output_type": "display_data"
    }
   ],
   "source": [
    "import numpy as np\n",
    "import matplotlib.pyplot as plt\n",
    "\n",
    "\n",
    "fig, axrr = plt.subplots(1, 2, figsize=(9, 3), sharey=False, sharex=True)\n",
    "plt.tight_layout()\n",
    "\n",
    "for idx, (ax, cumu) in enumerate(zip(axrr, [False, True])):\n",
    "    sns.histplot(\n",
    "        data=res_margins, x=\"margin_value\", hue=\"rank_one_is_correct\", multiple=\"fill\", \n",
    "        bins=25, cumulative=cumu, stat=\"probability\", fill=True, element=\"bars\", log_scale=[False, True], \n",
    "        ax=ax, legend=(idx == 1), binwidth=None)\n",
    "    \n",
    "    ax.grid(axis=\"y\", color=\"white\", linestyle=\"--\", linewidth=1.1)\n",
    "    \n",
    "    \n",
    "    ax.set_xlabel(\"Averaged max-margin score of top-1 structure\")\n",
    "    ax.set_xticklabels(np.round(ax.get_xticks(), 3), rotation=0)\n",
    "    \n",
    "    ax.set_yticks([0.05, 0.1, 0.2, 0.5, 1.0])\n",
    "    ax.set_yticklabels([\"%.0f%%\" % _v for _v in (ax.get_yticks() * 100)])\n",
    "    \n",
    "    if idx == 0:\n",
    "        ax.set_ylabel(\"Percentage of Top-1 Structures\")\n",
    "        ax.set_title(\"Empirical Distribution\")\n",
    "    else:\n",
    "        ax.set_ylabel(\"\")\n",
    "        ax.legend_.set_title(\"Top-1 Structure is correct\")\n",
    "        ax.set_title(\"Empirical Cumulative Distribution\")\n",
    "        \n",
    "fig.savefig(os.path.join(result_version, \"images_for_paper\",\n",
    "                         \"margin_score_distribution_dist_between_cor_and_incor.pdf\")) "
   ]
  }
 ],
 "metadata": {
  "kernelspec": {
   "display_name": "venv",
   "language": "python",
   "name": "venv"
  },
  "language_info": {
   "codemirror_mode": {
    "name": "ipython",
    "version": 3
   },
   "file_extension": ".py",
   "mimetype": "text/x-python",
   "name": "python",
   "nbconvert_exporter": "python",
   "pygments_lexer": "ipython3",
   "version": "3.8.6"
  }
 },
 "nbformat": 4,
 "nbformat_minor": 4
}
