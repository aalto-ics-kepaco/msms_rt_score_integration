{
 "cells": [
  {
   "cell_type": "markdown",
   "metadata": {},
   "source": [
    "## Influence of the Candidate Sets\n",
    "\n",
    "Reproduce plots for the experiments inspecting the different candidate set definitions, see Section 4.3.3 and Table 6."
   ]
  },
  {
   "cell_type": "code",
   "execution_count": 11,
   "metadata": {},
   "outputs": [
    {
     "name": "stdout",
     "output_type": "stream",
     "text": [
      "The autoreload extension is already loaded. To reload it, use:\n",
      "  %reload_ext autoreload\n"
     ]
    }
   ],
   "source": [
    "%load_ext autoreload\n",
    "%autoreload 2\n",
    "\n",
    "import numpy as np\n",
    "import pandas as pd\n",
    "import seaborn as sns\n",
    "import matplotlib.pyplot as plt\n",
    "import os\n",
    "\n",
    "from msmsrt_scorer.experiments.CASMI_2016.plot_and_table_utils import IDIR, IDIR_METFRAG, _label_p, load_results"
   ]
  },
  {
   "cell_type": "code",
   "execution_count": 12,
   "metadata": {},
   "outputs": [],
   "source": [
    "param_selection_measure = \"topk_auc\"\n",
    "eval_method = \"casmi\""
   ]
  },
  {
   "cell_type": "markdown",
   "metadata": {},
   "source": [
    "### MS Base Scorer: MetFrag\n",
    "\n",
    "**Using all candidates:**"
   ]
  },
  {
   "cell_type": "code",
   "execution_count": 16,
   "metadata": {},
   "outputs": [
    {
     "data": {
      "text/html": [
       "<div>\n",
       "<style scoped>\n",
       "    .dataframe tbody tr th:only-of-type {\n",
       "        vertical-align: middle;\n",
       "    }\n",
       "\n",
       "    .dataframe tbody tr th {\n",
       "        vertical-align: top;\n",
       "    }\n",
       "\n",
       "    .dataframe thead th {\n",
       "        text-align: right;\n",
       "    }\n",
       "</style>\n",
       "<table border=\"1\" class=\"dataframe\">\n",
       "  <thead>\n",
       "    <tr style=\"text-align: right;\">\n",
       "      <th></th>\n",
       "      <th>Method</th>\n",
       "      <th>Top-1</th>\n",
       "      <th>Top-5</th>\n",
       "      <th>Top-10</th>\n",
       "      <th>Top-20</th>\n",
       "    </tr>\n",
       "  </thead>\n",
       "  <tbody>\n",
       "    <tr>\n",
       "      <th>0</th>\n",
       "      <td>MS + RT (our)</td>\n",
       "      <td>14.4 (***)</td>\n",
       "      <td>43.4 (***)</td>\n",
       "      <td>54.6 (***)</td>\n",
       "      <td>65.9 (***)</td>\n",
       "    </tr>\n",
       "    <tr>\n",
       "      <th>1</th>\n",
       "      <td>Only MS</td>\n",
       "      <td>11.4</td>\n",
       "      <td>40.7</td>\n",
       "      <td>51.2</td>\n",
       "      <td>63.2</td>\n",
       "    </tr>\n",
       "  </tbody>\n",
       "</table>\n",
       "</div>"
      ],
      "text/plain": [
       "          Method       Top-1       Top-5      Top-10      Top-20\n",
       "0  MS + RT (our)  14.4 (***)  43.4 (***)  54.6 (***)  65.9 (***)\n",
       "1        Only MS        11.4        40.7        51.2        63.2"
      ]
     },
     "execution_count": 16,
     "metadata": {},
     "output_type": "execute_result"
    }
   ],
   "source": [
    "# Input directories\n",
    "_idir = IDIR(tree_method=\"random\", n_random_trees=32, ion_mode=\"positive\", D_value_method=None,\n",
    "             base_dir=\"results__TFG__platt\", mode=\"application\",\n",
    "             param_selection_measure=param_selection_measure, make_order_prob=\"sigmoid\",\n",
    "             norm_order_scores=False, margin_type=\"max\", restrict_candidates_to_correct_mf=None)\n",
    "_results_pos = load_results(_idir, \"MS + RT (our)\", 75, n_samples=50, method=eval_method)[0]\n",
    "_results_pos[\"Ionization\"] = \"positive\"\n",
    "\n",
    "_idir = IDIR(tree_method=\"random\", n_random_trees=32, ion_mode=\"negative\", D_value_method=None,\n",
    "             base_dir=\"results__TFG__platt\", mode=\"application\",\n",
    "             param_selection_measure=param_selection_measure, make_order_prob=\"sigmoid\",\n",
    "             norm_order_scores=False, margin_type=\"max\", restrict_candidates_to_correct_mf=None)\n",
    "_results_neg = load_results(_idir, \"MS + RT (our)\", 50, n_samples=50, method=eval_method)[0]\n",
    "_results_neg[\"Ionization\"] = \"negative\"\n",
    "\n",
    "results = pd.concat([_results_pos, _results_neg])\n",
    "\n",
    "P_TEST = \"wilcoxon_oneside\"\n",
    "results.drop(columns=[\"sample\"]) \\\n",
    "    .groupby(\"Method\") \\\n",
    "    .agg({\"Top-1\": lambda x: _label_p(x, 1, P_TEST, results),\n",
    "          \"Top-5\": lambda x: _label_p(x, 5, P_TEST, results), \n",
    "          \"Top-10\": lambda x: _label_p(x, 10, P_TEST, results), \n",
    "          \"Top-20\": lambda x: _label_p(x, 20, P_TEST, results)}) \\\n",
    "    .reset_index() "
   ]
  },
  {
   "cell_type": "markdown",
   "metadata": {},
   "source": [
    "**Using only candidates with correct molecular formula:**"
   ]
  },
  {
   "cell_type": "code",
   "execution_count": 17,
   "metadata": {},
   "outputs": [
    {
     "data": {
      "text/html": [
       "<div>\n",
       "<style scoped>\n",
       "    .dataframe tbody tr th:only-of-type {\n",
       "        vertical-align: middle;\n",
       "    }\n",
       "\n",
       "    .dataframe tbody tr th {\n",
       "        vertical-align: top;\n",
       "    }\n",
       "\n",
       "    .dataframe thead th {\n",
       "        text-align: right;\n",
       "    }\n",
       "</style>\n",
       "<table border=\"1\" class=\"dataframe\">\n",
       "  <thead>\n",
       "    <tr style=\"text-align: right;\">\n",
       "      <th></th>\n",
       "      <th>Method</th>\n",
       "      <th>Top-1</th>\n",
       "      <th>Top-5</th>\n",
       "      <th>Top-10</th>\n",
       "      <th>Top-20</th>\n",
       "    </tr>\n",
       "  </thead>\n",
       "  <tbody>\n",
       "    <tr>\n",
       "      <th>0</th>\n",
       "      <td>MS + RT (our)</td>\n",
       "      <td>17.5 (***)</td>\n",
       "      <td>48.3 (***)</td>\n",
       "      <td>59.7 (***)</td>\n",
       "      <td>70.5 (***)</td>\n",
       "    </tr>\n",
       "    <tr>\n",
       "      <th>1</th>\n",
       "      <td>Only MS</td>\n",
       "      <td>13.1</td>\n",
       "      <td>46.0</td>\n",
       "      <td>56.9</td>\n",
       "      <td>68.7</td>\n",
       "    </tr>\n",
       "  </tbody>\n",
       "</table>\n",
       "</div>"
      ],
      "text/plain": [
       "          Method       Top-1       Top-5      Top-10      Top-20\n",
       "0  MS + RT (our)  17.5 (***)  48.3 (***)  59.7 (***)  70.5 (***)\n",
       "1        Only MS        13.1        46.0        56.9        68.7"
      ]
     },
     "execution_count": 17,
     "metadata": {},
     "output_type": "execute_result"
    }
   ],
   "source": [
    "# Input directories\n",
    "_idir = IDIR(tree_method=\"random\", n_random_trees=32, ion_mode=\"positive\", D_value_method=None,\n",
    "             base_dir=\"results__TFG__platt\", mode=\"application\",\n",
    "             param_selection_measure=param_selection_measure, make_order_prob=\"sigmoid\",\n",
    "             norm_order_scores=False, margin_type=\"max\", restrict_candidates_to_correct_mf=True)\n",
    "_results_pos = load_results(_idir, \"MS + RT (our)\", 75, n_samples=50, method=eval_method)[0]\n",
    "_results_pos[\"Ionization\"] = \"positive\"\n",
    "\n",
    "_idir = IDIR(tree_method=\"random\", n_random_trees=32, ion_mode=\"negative\", D_value_method=None,\n",
    "             base_dir=\"results__TFG__platt\", mode=\"application\",\n",
    "             param_selection_measure=param_selection_measure, make_order_prob=\"sigmoid\",\n",
    "             norm_order_scores=False, margin_type=\"max\", restrict_candidates_to_correct_mf=True)\n",
    "_results_neg = load_results(_idir, \"MS + RT (our)\", 50, n_samples=50, method=eval_method)[0]\n",
    "_results_neg[\"Ionization\"] = \"negative\"\n",
    "\n",
    "results = pd.concat([_results_pos, _results_neg])\n",
    "\n",
    "P_TEST = \"wilcoxon_oneside\"\n",
    "results.drop(columns=[\"sample\"]) \\\n",
    "    .groupby(\"Method\") \\\n",
    "    .agg({\"Top-1\": lambda x: _label_p(x, 1, P_TEST, results),\n",
    "          \"Top-5\": lambda x: _label_p(x, 5, P_TEST, results), \n",
    "          \"Top-10\": lambda x: _label_p(x, 10, P_TEST, results), \n",
    "          \"Top-20\": lambda x: _label_p(x, 20, P_TEST, results)}) \\\n",
    "    .reset_index() "
   ]
  },
  {
   "cell_type": "markdown",
   "metadata": {},
   "source": [
    "### MS Base Scorer: IOKR\n",
    "\n",
    "**Using all candidates:**"
   ]
  },
  {
   "cell_type": "code",
   "execution_count": 19,
   "metadata": {},
   "outputs": [
    {
     "data": {
      "text/html": [
       "<div>\n",
       "<style scoped>\n",
       "    .dataframe tbody tr th:only-of-type {\n",
       "        vertical-align: middle;\n",
       "    }\n",
       "\n",
       "    .dataframe tbody tr th {\n",
       "        vertical-align: top;\n",
       "    }\n",
       "\n",
       "    .dataframe thead th {\n",
       "        text-align: right;\n",
       "    }\n",
       "</style>\n",
       "<table border=\"1\" class=\"dataframe\">\n",
       "  <thead>\n",
       "    <tr style=\"text-align: right;\">\n",
       "      <th></th>\n",
       "      <th>Method</th>\n",
       "      <th>Top-1</th>\n",
       "      <th>Top-5</th>\n",
       "      <th>Top-10</th>\n",
       "      <th>Top-20</th>\n",
       "    </tr>\n",
       "  </thead>\n",
       "  <tbody>\n",
       "    <tr>\n",
       "      <th>0</th>\n",
       "      <td>MS + RT (our)</td>\n",
       "      <td>26.1 (***)</td>\n",
       "      <td>48.3 (***)</td>\n",
       "      <td>59.9 (***)</td>\n",
       "      <td>69.1 (***)</td>\n",
       "    </tr>\n",
       "    <tr>\n",
       "      <th>1</th>\n",
       "      <td>Only MS</td>\n",
       "      <td>24.4</td>\n",
       "      <td>46.0</td>\n",
       "      <td>58.4</td>\n",
       "      <td>65.5</td>\n",
       "    </tr>\n",
       "  </tbody>\n",
       "</table>\n",
       "</div>"
      ],
      "text/plain": [
       "          Method       Top-1       Top-5      Top-10      Top-20\n",
       "0  MS + RT (our)  26.1 (***)  48.3 (***)  59.9 (***)  69.1 (***)\n",
       "1        Only MS        24.4        46.0        58.4        65.5"
      ]
     },
     "execution_count": 19,
     "metadata": {},
     "output_type": "execute_result"
    }
   ],
   "source": [
    "# Input directories\n",
    "_idir = IDIR(tree_method=\"random\", n_random_trees=32, ion_mode=\"positive\", D_value_method=None,\n",
    "             base_dir=\"results__TFG__platt\", mode=\"application\",\n",
    "             param_selection_measure=param_selection_measure, make_order_prob=\"sigmoid\",\n",
    "             norm_order_scores=False, margin_type=\"max\", restrict_candidates_to_correct_mf=None,\n",
    "             participant=\"IOKR__696a17f3\")\n",
    "_results_pos = load_results(_idir, \"MS + RT (our)\", 75, n_samples=50, method=eval_method)[0]\n",
    "_results_pos[\"Ionization\"] = \"positive\"\n",
    "\n",
    "_idir = IDIR(tree_method=\"random\", n_random_trees=32, ion_mode=\"negative\", D_value_method=None,\n",
    "             base_dir=\"results__TFG__platt\", mode=\"application\",\n",
    "             param_selection_measure=param_selection_measure, make_order_prob=\"sigmoid\",\n",
    "             norm_order_scores=False, margin_type=\"max\", restrict_candidates_to_correct_mf=None,\n",
    "             participant=\"IOKR__696a17f3\")\n",
    "_results_neg = load_results(_idir, \"MS + RT (our)\", 50, n_samples=50, method=eval_method)[0]\n",
    "_results_neg[\"Ionization\"] = \"negative\"\n",
    "\n",
    "results = pd.concat([_results_pos, _results_neg])\n",
    "\n",
    "P_TEST = \"wilcoxon_oneside\"\n",
    "results.drop(columns=[\"sample\"]) \\\n",
    "    .groupby(\"Method\") \\\n",
    "    .agg({\"Top-1\": lambda x: _label_p(x, 1, P_TEST, results),\n",
    "          \"Top-5\": lambda x: _label_p(x, 5, P_TEST, results), \n",
    "          \"Top-10\": lambda x: _label_p(x, 10, P_TEST, results), \n",
    "          \"Top-20\": lambda x: _label_p(x, 20, P_TEST, results)}) \\\n",
    "    .reset_index() "
   ]
  },
  {
   "cell_type": "markdown",
   "metadata": {},
   "source": [
    "**Using only candidates with correct molecular formula:**"
   ]
  },
  {
   "cell_type": "code",
   "execution_count": 21,
   "metadata": {},
   "outputs": [
    {
     "data": {
      "text/html": [
       "<div>\n",
       "<style scoped>\n",
       "    .dataframe tbody tr th:only-of-type {\n",
       "        vertical-align: middle;\n",
       "    }\n",
       "\n",
       "    .dataframe tbody tr th {\n",
       "        vertical-align: top;\n",
       "    }\n",
       "\n",
       "    .dataframe thead th {\n",
       "        text-align: right;\n",
       "    }\n",
       "</style>\n",
       "<table border=\"1\" class=\"dataframe\">\n",
       "  <thead>\n",
       "    <tr style=\"text-align: right;\">\n",
       "      <th></th>\n",
       "      <th>Method</th>\n",
       "      <th>Top-1</th>\n",
       "      <th>Top-5</th>\n",
       "      <th>Top-10</th>\n",
       "      <th>Top-20</th>\n",
       "    </tr>\n",
       "  </thead>\n",
       "  <tbody>\n",
       "    <tr>\n",
       "      <th>0</th>\n",
       "      <td>MS + RT (our)</td>\n",
       "      <td>30.2</td>\n",
       "      <td>52.3</td>\n",
       "      <td>66.2 (***)</td>\n",
       "      <td>74.7</td>\n",
       "    </tr>\n",
       "    <tr>\n",
       "      <th>1</th>\n",
       "      <td>Only MS</td>\n",
       "      <td>30.6</td>\n",
       "      <td>53.9</td>\n",
       "      <td>65.3</td>\n",
       "      <td>74.8</td>\n",
       "    </tr>\n",
       "  </tbody>\n",
       "</table>\n",
       "</div>"
      ],
      "text/plain": [
       "          Method Top-1 Top-5      Top-10 Top-20\n",
       "0  MS + RT (our)  30.2  52.3  66.2 (***)   74.7\n",
       "1        Only MS  30.6  53.9        65.3   74.8"
      ]
     },
     "execution_count": 21,
     "metadata": {},
     "output_type": "execute_result"
    }
   ],
   "source": [
    "# Input directories\n",
    "_idir = IDIR(tree_method=\"random\", n_random_trees=32, ion_mode=\"positive\", D_value_method=None,\n",
    "             base_dir=\"results__TFG__platt\", mode=\"application\",\n",
    "             param_selection_measure=param_selection_measure, make_order_prob=\"sigmoid\",\n",
    "             norm_order_scores=False, margin_type=\"max\", restrict_candidates_to_correct_mf=True,\n",
    "             participant=\"IOKR__696a17f3\")\n",
    "_results_pos = load_results(_idir, \"MS + RT (our)\", 75, n_samples=50, method=eval_method)[0]\n",
    "_results_pos[\"Ionization\"] = \"positive\"\n",
    "\n",
    "_idir = IDIR(tree_method=\"random\", n_random_trees=32, ion_mode=\"negative\", D_value_method=None,\n",
    "             base_dir=\"results__TFG__platt\", mode=\"application\",\n",
    "             param_selection_measure=param_selection_measure, make_order_prob=\"sigmoid\",\n",
    "             norm_order_scores=False, margin_type=\"max\", restrict_candidates_to_correct_mf=True,\n",
    "             participant=\"IOKR__696a17f3\")\n",
    "_results_neg = load_results(_idir, \"MS + RT (our)\", 50, n_samples=50, method=eval_method)[0]\n",
    "_results_neg[\"Ionization\"] = \"negative\"\n",
    "\n",
    "results = pd.concat([_results_pos, _results_neg])\n",
    "\n",
    "P_TEST = \"wilcoxon_oneside\"\n",
    "results.drop(columns=[\"sample\"]) \\\n",
    "    .groupby(\"Method\") \\\n",
    "    .agg({\"Top-1\": lambda x: _label_p(x, 1, P_TEST, results),\n",
    "          \"Top-5\": lambda x: _label_p(x, 5, P_TEST, results), \n",
    "          \"Top-10\": lambda x: _label_p(x, 10, P_TEST, results), \n",
    "          \"Top-20\": lambda x: _label_p(x, 20, P_TEST, results)}) \\\n",
    "    .reset_index() "
   ]
  }
 ],
 "metadata": {
  "kernelspec": {
   "display_name": "venv",
   "language": "python",
   "name": "venv"
  },
  "language_info": {
   "codemirror_mode": {
    "name": "ipython",
    "version": 3
   },
   "file_extension": ".py",
   "mimetype": "text/x-python",
   "name": "python",
   "nbconvert_exporter": "python",
   "pygments_lexer": "ipython3",
   "version": "3.8.2"
  }
 },
 "nbformat": 4,
 "nbformat_minor": 4
}
