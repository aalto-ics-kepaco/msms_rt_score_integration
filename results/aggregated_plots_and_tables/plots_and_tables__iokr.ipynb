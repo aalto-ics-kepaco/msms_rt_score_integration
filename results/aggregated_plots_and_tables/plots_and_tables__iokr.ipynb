{
 "cells": [
  {
   "cell_type": "markdown",
   "metadata": {},
   "source": [
    "## IOKR as MS Base Scorer\n",
    "\n",
    "Reproduce the IOKR performance values in Table 5 associated with Section 4.3.2."
   ]
  },
  {
   "cell_type": "code",
   "execution_count": 1,
   "metadata": {},
   "outputs": [],
   "source": [
    "%load_ext autoreload\n",
    "%autoreload 2\n",
    "\n",
    "import numpy as np\n",
    "import pandas as pd\n",
    "import seaborn as sns\n",
    "import matplotlib.pyplot as plt\n",
    "import os\n",
    "import sys\n",
    "import itertools as it\n",
    "\n",
    "from scipy.stats import wilcoxon\n",
    "\n",
    "sys.path.append(\".\")\n",
    "from local_utils import IDIR_CASMI, IDIR_EA\n",
    "\n",
    "from msmsrt_scorer.experiments.EA_Massbank.plot_and_table_utils import IDIR_METFRAG, _label_p, load_results"
   ]
  },
  {
   "cell_type": "code",
   "execution_count": 2,
   "metadata": {},
   "outputs": [],
   "source": [
    "param_selection_measure = \"topk_auc\"\n",
    "eval_method = \"casmi\""
   ]
  },
  {
   "cell_type": "markdown",
   "metadata": {},
   "source": [
    "**Load the results:**"
   ]
  },
  {
   "cell_type": "code",
   "execution_count": 5,
   "metadata": {},
   "outputs": [],
   "source": [
    "MAKE_ORDER_PROB = [\"sigmoid\"]\n",
    "\n",
    "res = pd.DataFrame()\n",
    "\n",
    "for make_order_prob, base_dir in zip(MAKE_ORDER_PROB, [\"../EA_Massbank/results__TFG__platt\"]):\n",
    "    # EA Dataset\n",
    "    for ion_mode, max_n_ms2, n_samples in [(\"positive\", 100, 100), (\"negative\", 65, 50)]:\n",
    "        _idir = IDIR_EA(\n",
    "            tree_method=\"random\", n_random_trees=32, ion_mode=ion_mode, D_value_method=None, mode=\"application\",\n",
    "            base_dir=base_dir, param_selection_measure=param_selection_measure, \n",
    "            make_order_prob=make_order_prob, norm_scores=\"none\", margin_type=\"max\", participant=\"IOKR__696a17f3\")\n",
    "\n",
    "        _res = load_results(\n",
    "            _idir, \"MS + RT (our, %s)\" % make_order_prob, max_n_ms2, n_samples=n_samples, method=eval_method)[0]\n",
    "        _res[\"Dataset\"] = \"EA (Massbank)\"\n",
    "        _res[\"Ionization\"] = ion_mode\n",
    "        _res[\"Function\"] = make_order_prob\n",
    "    \n",
    "        res = pd.concat((res, _res))\n",
    "\n",
    "for make_order_prob, base_dir in zip(MAKE_ORDER_PROB, [\"../CASMI_2016/results__TFG__platt\"]):\n",
    "    # CASMI Dataset\n",
    "    for ion_mode, max_n_ms2, n_samples in [(\"positive\", 75, 50), (\"negative\", 50, 50)]:\n",
    "        _idir = IDIR_CASMI(\n",
    "        tree_method=\"random\", n_random_trees=32, ion_mode=ion_mode, D_value_method=None, mode=\"application\",\n",
    "        base_dir=base_dir, param_selection_measure=param_selection_measure, \n",
    "        make_order_prob=make_order_prob, norm_order_scores=False, margin_type=\"max\", participant=\"IOKR__696a17f3\")\n",
    "\n",
    "        _res = load_results(\n",
    "            _idir, \"MS + RT (our, %s)\" % make_order_prob, max_n_ms2, n_samples=n_samples, method=eval_method)[0]\n",
    "        _res[\"Dataset\"] = \"CASMI 2016\"\n",
    "        _res[\"Ionization\"] = ion_mode\n",
    "        _res[\"Function\"] = make_order_prob\n",
    "        \n",
    "        res = pd.concat((res, _res))\n",
    "\n",
    "res = res.drop_duplicates(subset=res.columns[:-1]).drop(\"sample\", axis=1)\n",
    "\n",
    "assert (res[res.Method == \"Only MS\"].shape[0] == 250)\n",
    "assert (res[res.Method != \"Only MS\"].shape[0] == 250)"
   ]
  },
  {
   "cell_type": "code",
   "execution_count": 6,
   "metadata": {},
   "outputs": [
    {
     "data": {
      "text/html": [
       "<div>\n",
       "<style scoped>\n",
       "    .dataframe tbody tr th:only-of-type {\n",
       "        vertical-align: middle;\n",
       "    }\n",
       "\n",
       "    .dataframe tbody tr th {\n",
       "        vertical-align: top;\n",
       "    }\n",
       "\n",
       "    .dataframe thead th {\n",
       "        text-align: right;\n",
       "    }\n",
       "</style>\n",
       "<table border=\"1\" class=\"dataframe\">\n",
       "  <thead>\n",
       "    <tr style=\"text-align: right;\">\n",
       "      <th></th>\n",
       "      <th>Method</th>\n",
       "      <th>Top-1</th>\n",
       "      <th>Top-5</th>\n",
       "      <th>Top-10</th>\n",
       "      <th>Top-20</th>\n",
       "    </tr>\n",
       "  </thead>\n",
       "  <tbody>\n",
       "    <tr>\n",
       "      <th>0</th>\n",
       "      <td>MS + RT (our, sigmoid)</td>\n",
       "      <td>26.8</td>\n",
       "      <td>51.9</td>\n",
       "      <td>62.3</td>\n",
       "      <td>70.3</td>\n",
       "    </tr>\n",
       "    <tr>\n",
       "      <th>1</th>\n",
       "      <td>Only MS</td>\n",
       "      <td>25.1</td>\n",
       "      <td>49.5</td>\n",
       "      <td>60.3</td>\n",
       "      <td>67.6</td>\n",
       "    </tr>\n",
       "  </tbody>\n",
       "</table>\n",
       "</div>"
      ],
      "text/plain": [
       "                   Method  Top-1  Top-5  Top-10  Top-20\n",
       "0  MS + RT (our, sigmoid)   26.8   51.9    62.3    70.3\n",
       "1                 Only MS   25.1   49.5    60.3    67.6"
      ]
     },
     "execution_count": 6,
     "metadata": {},
     "output_type": "execute_result"
    }
   ],
   "source": [
    "res \\\n",
    "    .groupby([\"Method\", \"Dataset\", \"Ionization\", \"Function\"]).mean() \\\n",
    "    .groupby([\"Method\", \"Function\"]).mean() \\\n",
    "    .round(1) \\\n",
    "    .reset_index().drop([\"Function\", \"Top-3\"], axis=1)"
   ]
  }
 ],
 "metadata": {
  "kernelspec": {
   "display_name": "venv",
   "language": "python",
   "name": "venv"
  },
  "language_info": {
   "codemirror_mode": {
    "name": "ipython",
    "version": 3
   },
   "file_extension": ".py",
   "mimetype": "text/x-python",
   "name": "python",
   "nbconvert_exporter": "python",
   "pygments_lexer": "ipython3",
   "version": "3.8.3"
  }
 },
 "nbformat": 4,
 "nbformat_minor": 4
}
