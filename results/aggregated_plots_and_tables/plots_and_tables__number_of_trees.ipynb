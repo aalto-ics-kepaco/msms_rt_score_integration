{
 "cells": [
  {
   "cell_type": "markdown",
   "metadata": {},
   "source": [
    "## Inspecting the effect of the number of Random Spanning Trees\n",
    "\n",
    "Reproduce plots for the experiments varying the number of random spanning trees and comparison between max- and sum-margin, see Section 4.2.1 and Figure 2."
   ]
  },
  {
   "cell_type": "code",
   "execution_count": 3,
   "metadata": {},
   "outputs": [
    {
     "name": "stdout",
     "output_type": "stream",
     "text": [
      "The autoreload extension is already loaded. To reload it, use:\n",
      "  %reload_ext autoreload\n"
     ]
    }
   ],
   "source": [
    "%load_ext autoreload\n",
    "%autoreload 2\n",
    "\n",
    "import sys\n",
    "import pandas as pd\n",
    "import matplotlib.pyplot as plt\n",
    "import numpy as np\n",
    "import seaborn as sns\n",
    "import os\n",
    "\n",
    "from msmsrt_scorer.experiments.EA_Massbank.plot_and_table_utils import load_results\n",
    "\n",
    "sys.path.append(\".\")\n",
    "from local_utils import IDIR_CASMI, IDIR_EA"
   ]
  },
  {
   "cell_type": "code",
   "execution_count": 4,
   "metadata": {},
   "outputs": [],
   "source": [
    "param_selection_measure = \"topk_auc\"\n",
    "eval_method = \"casmi\"\n",
    "T_range = [1, 2, 4, 8, 16, 32, 64]\n",
    "mode = \"application\"\n",
    "make_order_prob = \"sigmoid\""
   ]
  },
  {
   "cell_type": "markdown",
   "metadata": {},
   "source": [
    "## Load the result files\n",
    "\n",
    "Max-Margin"
   ]
  },
  {
   "cell_type": "code",
   "execution_count": 5,
   "metadata": {},
   "outputs": [],
   "source": [
    "results_max = pd.DataFrame()\n",
    "parsel_max = pd.DataFrame()\n",
    "\n",
    "for i, T in enumerate(T_range):\n",
    "    #########################\n",
    "    # LOAD CASMI 2016 RESULTS\n",
    "    #########################\n",
    "    for _ionm, _maxn, _nsamp in [(\"positive\", 75, 50), (\"negative\", 50, 50)]:\n",
    "        _idir = IDIR_CASMI(\n",
    "            tree_method=\"random\", n_random_trees=T, ion_mode=_ionm, D_value_method=None,\n",
    "            base_dir=\"../CASMI_2016/results__TFG__platt\", mode=mode,\n",
    "            param_selection_measure=param_selection_measure, make_order_prob=make_order_prob,\n",
    "            norm_order_scores=False, margin_type=\"max\")\n",
    "    \n",
    "        _tmp = load_results(_idir, \"MS + RT\", _maxn, method=eval_method, label_only_ms=\"Only MS\",\n",
    "                            n_samples=_nsamp, load_baseline=(i == 0))\n",
    "        \n",
    "        # Results\n",
    "        _results = _tmp[0]\n",
    "        _results[\"T\"] = T\n",
    "        _results[\"Ionization\"] = _ionm\n",
    "        _results[\"Dataset\"] = \"CASMI2016\"\n",
    "        _results[\"Margin\"] = \"Max\"\n",
    "        results_max = pd.concat([results_max, _results])\n",
    "        \n",
    "        # Optimal parameters\n",
    "        _parsel = _tmp[1]\n",
    "        _parsel[\"T\"] = T\n",
    "        _parsel[\"Ionization\"] = _ionm\n",
    "        _parsel[\"Dataset\"] = \"CASMI2016\"\n",
    "        _parsel[\"Margin\"] = \"Max\"\n",
    "        parsel_max = pd.concat([parsel_max, _parsel])\n",
    "\n",
    "    ############################\n",
    "    # LOAD EA (MASSBANK) RESULTS\n",
    "    ############################\n",
    "    for _ionm, _maxn, _nsamp in [(\"positive\", 100, 100), (\"negative\", 65, 50)]:\n",
    "        _idir = IDIR_EA(\n",
    "            tree_method=\"random\", n_random_trees=T, ion_mode=_ionm, D_value_method=None,\n",
    "            base_dir=\"../EA_Massbank/results__TFG__platt\", mode=mode,\n",
    "            param_selection_measure=param_selection_measure, make_order_prob=make_order_prob,\n",
    "            norm_scores=\"none\", margin_type=\"max\")\n",
    "    \n",
    "        _tmp = load_results(_idir, \"MS + RT\", _maxn, method=eval_method,\n",
    "                            label_only_ms=\"Only MS\", n_samples=_nsamp, load_baseline=(i == 0))\n",
    "        # Results\n",
    "        _results = _tmp[0]\n",
    "        _results[\"T\"] = T\n",
    "        _results[\"Ionization\"] = _ionm\n",
    "        _results[\"Dataset\"] = \"EA\"\n",
    "        _results[\"Margin\"] = \"Max\"\n",
    "        results_max = pd.concat([results_max, _results])\n",
    "        \n",
    "        # Optimal parameters\n",
    "        _parsel = _tmp[1]\n",
    "        if _ionm == \"positive\":\n",
    "            # Only consider 50 selected parameter examples this dataset to now skew the corresponding analysis\n",
    "            _parsel = _parsel.iloc[:50, :].copy()\n",
    "            \n",
    "        _parsel[\"T\"] = T\n",
    "        _parsel[\"Ionization\"] = _ionm\n",
    "        _parsel[\"Dataset\"] = \"EA\"\n",
    "        _parsel[\"Margin\"] = \"Max\"\n",
    "        parsel_max = pd.concat([parsel_max, _parsel])"
   ]
  },
  {
   "cell_type": "markdown",
   "metadata": {},
   "source": [
    "Sum-Margin"
   ]
  },
  {
   "cell_type": "code",
   "execution_count": 6,
   "metadata": {},
   "outputs": [],
   "source": [
    "results_sum = pd.DataFrame()\n",
    "parsel_sum = pd.DataFrame()\n",
    "\n",
    "for i, T in enumerate(T_range):\n",
    "    #########################\n",
    "    # LOAD CASMI 2016 RESULTS\n",
    "    #########################\n",
    "    for _ionm, _maxn, _nsamp in [(\"positive\", 75, 50), (\"negative\", 50, 50)]:\n",
    "        _idir = IDIR_CASMI(\n",
    "            tree_method=\"random\", n_random_trees=T, ion_mode=_ionm, D_value_method=None,\n",
    "            base_dir=\"../CASMI_2016/results__TFG__platt\", mode=mode,\n",
    "            param_selection_measure=param_selection_measure, make_order_prob=make_order_prob,\n",
    "            norm_order_scores=False, margin_type=\"sum\")\n",
    "    \n",
    "        _tmp = load_results(_idir, \"MS + RT\", _maxn, method=eval_method, label_only_ms=\"Only MS\",\n",
    "                            n_samples=_nsamp, load_baseline=(i == 0))\n",
    "        # Results\n",
    "        _results = _tmp[0]\n",
    "        _results[\"T\"] = T\n",
    "        _results[\"Ionization\"] = _ionm\n",
    "        _results[\"Dataset\"] = \"CASMI2016\"\n",
    "        _results[\"Margin\"] = \"Sum\"\n",
    "        results_sum = pd.concat([results_sum, _results])\n",
    "        \n",
    "        # Optimal parameters\n",
    "        _parsel = _tmp[1]\n",
    "        _parsel[\"T\"] = T\n",
    "        _parsel[\"Ionization\"] = _ionm\n",
    "        _parsel[\"Dataset\"] = \"CASMI2016\"\n",
    "        _parsel[\"Margin\"] = \"Sum\"\n",
    "        parsel_sum = pd.concat([parsel_sum, _parsel])\n",
    "    \n",
    "    ############################\n",
    "    # LOAD EA (MASSBANK) RESULTS\n",
    "    ############################\n",
    "    for _ionm, _maxn, _nsamp in [(\"positive\", 100, 100), (\"negative\", 65, 50)]:\n",
    "        _idir = IDIR_EA(\n",
    "            tree_method=\"random\", n_random_trees=T, ion_mode=_ionm, D_value_method=None,\n",
    "            base_dir=\"../EA_Massbank/results__TFG__platt\", mode=mode,\n",
    "            param_selection_measure=param_selection_measure, make_order_prob=make_order_prob,\n",
    "            norm_scores=\"none\", margin_type=\"sum\")\n",
    "    \n",
    "        _tmp = load_results(_idir, \"MS + RT\", _maxn, method=eval_method,\n",
    "                            label_only_ms=\"Only MS\", n_samples=_nsamp, load_baseline=(i == 0))\n",
    "        # Results\n",
    "        _results = _tmp[0]\n",
    "        _results[\"T\"] = T\n",
    "        _results[\"Ionization\"] = _ionm\n",
    "        _results[\"Dataset\"] = \"EA\"\n",
    "        _results[\"Margin\"] = \"Sum\"\n",
    "        results_sum = pd.concat([results_sum, _results])\n",
    "        \n",
    "        # Optimal parameters\n",
    "        _parsel = _tmp[1]\n",
    "        if _ionm == \"positive\":\n",
    "            # Only consider 50 selected parameter examples this dataset to now skew the corresponding analysis\n",
    "            _parsel = _parsel.iloc[:50, :].copy()\n",
    "        \n",
    "        _parsel[\"T\"] = T\n",
    "        _parsel[\"Ionization\"] = _ionm\n",
    "        _parsel[\"Dataset\"] = \"EA\"\n",
    "        _parsel[\"Margin\"] = \"Sum\"\n",
    "        parsel_sum = pd.concat([parsel_sum, _parsel])"
   ]
  },
  {
   "cell_type": "code",
   "execution_count": 7,
   "metadata": {},
   "outputs": [],
   "source": [
    "assert(results_max.shape[0] == ((50 + 50 + 50 + 100) * 7) + (50 + 50 + 50 + 100))\n",
    "assert(results_sum.shape[0] == ((50 + 50 + 50 + 100) * 7) + (50 + 50 + 50 + 100))"
   ]
  },
  {
   "cell_type": "markdown",
   "metadata": {},
   "source": [
    "## Top-K Accuracy\n",
    "\n",
    "Here we are plotting the top-k accuracies against the number of spanning-trees used to approximate the probability distribution."
   ]
  },
  {
   "cell_type": "code",
   "execution_count": 8,
   "metadata": {},
   "outputs": [
    {
     "data": {
      "image/png": "[encoded data removed]",
      "text/plain": [
       "<Figure size 432x324 with 4 Axes>"
      ]
     },
     "metadata": {
      "needs_background": "light"
     },
     "output_type": "display_data"
    }
   ],
   "source": [
    "fig, axrr = plt.subplots(2, 2, figsize=(6, 4.5), sharex=\"all\")\n",
    "\n",
    "_res_melt_max = results_max \\\n",
    "    .drop([\"sample\", \"Margin\"], axis=1) \\\n",
    "    .melt(id_vars=[\"Ionization\", \"T\", \"Method\", \"Dataset\"], var_name=\"Top-k\", value_name=\"Top-k Accuracy (%)\")\n",
    "_res_melt_sum = results_sum \\\n",
    "    .drop([\"sample\", \"Margin\"], axis=1) \\\n",
    "    .melt(id_vars=[\"Ionization\", \"T\", \"Method\", \"Dataset\"], var_name=\"Top-k\", value_name=\"Top-k Accuracy (%)\")\n",
    "\n",
    "_xlabels = T_range\n",
    "_x = range(len(_xlabels))\n",
    "\n",
    "for i, topk in enumerate([\"Top-%d\" % k for k in [1, 5, 10, 20]]):\n",
    "    r, c = np.unravel_index(i, shape=axrr.shape)\n",
    "    ax = axrr[r, c] \n",
    "    \n",
    "    # Plot average (RT + MS)\n",
    "    _y = _res_melt_max \\\n",
    "        .loc[(_res_melt_max[\"Top-k\"] == topk) & (_res_melt_max.Method != \"Only MS\")] \\\n",
    "        .groupby([\"T\", \"Dataset\", \"Ionization\"])[\"Top-k Accuracy (%)\"].mean() \\\n",
    "        .groupby(\"T\").mean()\n",
    "    ax.plot(_x, _y, linestyle=\"--\", label=\"MS + RT (Max)\")\n",
    "    ax.scatter(_x, _y)\n",
    "    \n",
    "    _y = _res_melt_sum \\\n",
    "        .loc[(_res_melt_sum[\"Top-k\"] == topk) & (_res_melt_sum.Method != \"Only MS\")] \\\n",
    "        .groupby([\"T\", \"Dataset\", \"Ionization\"])[\"Top-k Accuracy (%)\"].mean() \\\n",
    "        .groupby(\"T\").mean()\n",
    "    ax.plot(_x, _y, linestyle=\"--\", label=\"MS + RT (Sum)\")\n",
    "    ax.scatter(_x, _y)\n",
    "    \n",
    "    # Plot average (Only MS)\n",
    "    __y_max = _res_melt_max \\\n",
    "        .loc[(_res_melt_max[\"Top-k\"] == topk) & (_res_melt_max.Method == \"Only MS\")] \\\n",
    "        .groupby([\"Dataset\", \"Ionization\"])[\"Top-k Accuracy (%)\"].mean() \\\n",
    "        .mean()\n",
    "    __y_sum = _res_melt_sum \\\n",
    "        .loc[(_res_melt_sum[\"Top-k\"] == topk) & (_res_melt_sum.Method == \"Only MS\")] \\\n",
    "        .groupby([\"Dataset\", \"Ionization\"])[\"Top-k Accuracy (%)\"].mean() \\\n",
    "        .mean()\n",
    "    assert (__y_max == __y_sum)\n",
    "    \n",
    "    _y = __y_max\n",
    "    ax.hlines(_y, -0.15, len(T_range) - 1 + 0.15, linestyle=\"-\", color=\"black\", label=\"Only MS\")\n",
    "    \n",
    "    ax.set_title(topk)\n",
    "    \n",
    "    ax.grid(axis=\"y\")\n",
    "    \n",
    "    if c == 0:\n",
    "        ax.set_ylabel(\"Identification\\nAccuracy (%)\")\n",
    "    \n",
    "    if r == 0:\n",
    "        ax.set_xticklabels([])\n",
    "    else:\n",
    "        ax.set_xticks(_x)\n",
    "        ax.set_xticklabels(_xlabels)\n",
    "        ax.set_xlabel(\"Number of Spanning-Trees\")\n",
    "    \n",
    "    if i == 0:\n",
    "        ax.legend(loc=\"lower right\")\n",
    "    \n",
    "plt.tight_layout()"
   ]
  }
 ],
 "metadata": {
  "kernelspec": {
   "display_name": "venv",
   "language": "python",
   "name": "venv"
  },
  "language_info": {
   "codemirror_mode": {
    "name": "ipython",
    "version": 3
   },
   "file_extension": ".py",
   "mimetype": "text/x-python",
   "name": "python",
   "nbconvert_exporter": "python",
   "pygments_lexer": "ipython3",
   "version": "3.8.2"
  }
 },
 "nbformat": 4,
 "nbformat_minor": 4
}
