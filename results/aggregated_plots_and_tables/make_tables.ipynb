{
 "cells": [
  {
   "cell_type": "code",
   "execution_count": 1,
   "metadata": {},
   "outputs": [],
   "source": [
    "%load_ext autoreload\n",
    "%autoreload 2"
   ]
  },
  {
   "cell_type": "markdown",
   "metadata": {},
   "source": [
    "## Aggregated Identification Performance using IOKR MS-Scores\n",
    "\n",
    "Table 5."
   ]
  },
  {
   "cell_type": "code",
   "execution_count": 42,
   "metadata": {},
   "outputs": [
    {
     "data": {
      "text/html": [
       "<div>\n",
       "<style scoped>\n",
       "    .dataframe tbody tr th:only-of-type {\n",
       "        vertical-align: middle;\n",
       "    }\n",
       "\n",
       "    .dataframe tbody tr th {\n",
       "        vertical-align: top;\n",
       "    }\n",
       "\n",
       "    .dataframe thead th {\n",
       "        text-align: right;\n",
       "    }\n",
       "</style>\n",
       "<table border=\"1\" class=\"dataframe\">\n",
       "  <thead>\n",
       "    <tr style=\"text-align: right;\">\n",
       "      <th></th>\n",
       "      <th>\\msms{}-Scorers</th>\n",
       "      <th>Method</th>\n",
       "      <th>Top-1</th>\n",
       "      <th>Top-5</th>\n",
       "      <th>Top-10</th>\n",
       "      <th>Top-20</th>\n",
       "    </tr>\n",
       "  </thead>\n",
       "  <tbody>\n",
       "    <tr>\n",
       "      <th>0</th>\n",
       "      <td>IOKR</td>\n",
       "      <td>MS + RT</td>\n",
       "      <td>26.8</td>\n",
       "      <td>51.9</td>\n",
       "      <td>62.3</td>\n",
       "      <td>70.3</td>\n",
       "    </tr>\n",
       "    <tr>\n",
       "      <th>1</th>\n",
       "      <td>IOKR</td>\n",
       "      <td>Only MS</td>\n",
       "      <td>25.1</td>\n",
       "      <td>49.5</td>\n",
       "      <td>60.3</td>\n",
       "      <td>67.6</td>\n",
       "    </tr>\n",
       "    <tr>\n",
       "      <th>2</th>\n",
       "      <td>MetFrag</td>\n",
       "      <td>MS + RT</td>\n",
       "      <td>21.2</td>\n",
       "      <td>52.6</td>\n",
       "      <td>63.9</td>\n",
       "      <td>73.9</td>\n",
       "    </tr>\n",
       "    <tr>\n",
       "      <th>3</th>\n",
       "      <td>MetFrag</td>\n",
       "      <td>Only MS</td>\n",
       "      <td>16.7</td>\n",
       "      <td>49.5</td>\n",
       "      <td>60.4</td>\n",
       "      <td>70.6</td>\n",
       "    </tr>\n",
       "  </tbody>\n",
       "</table>\n",
       "</div>"
      ],
      "text/plain": [
       "  \\msms{}-Scorers   Method  Top-1  Top-5  Top-10  Top-20\n",
       "0            IOKR  MS + RT   26.8   51.9    62.3    70.3\n",
       "1            IOKR  Only MS   25.1   49.5    60.3    67.6\n",
       "2         MetFrag  MS + RT   21.2   52.6    63.9    73.9\n",
       "3         MetFrag  Only MS   16.7   49.5    60.4    70.6"
      ]
     },
     "execution_count": 42,
     "metadata": {},
     "output_type": "execute_result"
    }
   ],
   "source": [
    "from msmsrt_scorer.experiments.figures_and_tables import table__MetFrag_vs_IOKR_comparison\n",
    "\n",
    "table__MetFrag_vs_IOKR_comparison(\"..\")\n",
    "\n",
    "# print(table__MetFrag_vs_IOKR_comparison(\"..\", to_latex=True))"
   ]
  }
 ],
 "metadata": {
  "kernelspec": {
   "display_name": "venv",
   "language": "python",
   "name": "venv"
  },
  "language_info": {
   "codemirror_mode": {
    "name": "ipython",
    "version": 3
   },
   "file_extension": ".py",
   "mimetype": "text/x-python",
   "name": "python",
   "nbconvert_exporter": "python",
   "pygments_lexer": "ipython3",
   "version": "3.8.3"
  }
 },
 "nbformat": 4,
 "nbformat_minor": 4
}
